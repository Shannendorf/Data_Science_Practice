{
 "cells": [
  {
   "cell_type": "code",
   "execution_count": 32,
   "metadata": {},
   "outputs": [],
   "source": [
    "import pandas as pd # voor dataprocessing, importeren csv file etc.\n",
    "from sklearn.model_selection import train_test_split # voor het splitsen van train en testdata\n",
    "from sklearn.naive_bayes import GaussianNB # de Gaussian Naive Bayes Classifier\n",
    "from sklearn.preprocessing import LabelEncoder # voor het omzetten van string naar getal\n",
    "from sklearn.metrics import accuracy_score, confusion_matrix, classification_report # om het model te evalueren"
   ]
  },
  {
   "cell_type": "code",
   "execution_count": 27,
   "metadata": {},
   "outputs": [
    {
     "name": "stdout",
     "output_type": "stream",
     "text": [
      "(150, 5)\n",
      "   sepal_length  sepal_width  petal_length  petal_width species\n",
      "0           5.1          3.5           1.4          0.2  setosa\n",
      "1           4.9          3.0           1.4          0.2  setosa\n",
      "2           4.7          3.2           1.3          0.2  setosa\n",
      "3           4.6          3.1           1.5          0.2  setosa\n",
      "4           5.0          3.6           1.4          0.2  setosa\n",
      "       sepal_length  sepal_width  petal_length  petal_width\n",
      "count    150.000000   150.000000    150.000000   150.000000\n",
      "mean       5.843333     3.054000      3.758667     1.198667\n",
      "std        0.828066     0.433594      1.764420     0.763161\n",
      "min        4.300000     2.000000      1.000000     0.100000\n",
      "25%        5.100000     2.800000      1.600000     0.300000\n",
      "50%        5.800000     3.000000      4.350000     1.300000\n",
      "75%        6.400000     3.300000      5.100000     1.800000\n",
      "max        7.900000     4.400000      6.900000     2.500000\n"
     ]
    }
   ],
   "source": [
    "# Importeren dataset en printen van aantal rijen/kolommen en de eerste 5 records\n",
    "iris = pd.read_csv(\"iris.csv\")\n",
    "print(iris.shape)\n",
    "print(iris.head())\n",
    "print(iris.describe())"
   ]
  },
  {
   "cell_type": "code",
   "execution_count": 3,
   "metadata": {
    "scrolled": false
   },
   "outputs": [],
   "source": [
    "# Waarden doelvariabele omzetten in getallen\n",
    "le = LabelEncoder()\n",
    "le.fit(iris['species'])\n",
    "iris['species'] = le.transform(iris['species'])"
   ]
  },
  {
   "cell_type": "code",
   "execution_count": 14,
   "metadata": {},
   "outputs": [
    {
     "name": "stdout",
     "output_type": "stream",
     "text": [
      "(100, 5)\n",
      "(50, 5)\n"
     ]
    },
    {
     "data": {
      "text/html": [
       "<div>\n",
       "<style scoped>\n",
       "    .dataframe tbody tr th:only-of-type {\n",
       "        vertical-align: middle;\n",
       "    }\n",
       "\n",
       "    .dataframe tbody tr th {\n",
       "        vertical-align: top;\n",
       "    }\n",
       "\n",
       "    .dataframe thead th {\n",
       "        text-align: right;\n",
       "    }\n",
       "</style>\n",
       "<table border=\"1\" class=\"dataframe\">\n",
       "  <thead>\n",
       "    <tr style=\"text-align: right;\">\n",
       "      <th></th>\n",
       "      <th>sepal_length</th>\n",
       "      <th>sepal_width</th>\n",
       "      <th>petal_length</th>\n",
       "      <th>petal_width</th>\n",
       "      <th>species</th>\n",
       "    </tr>\n",
       "  </thead>\n",
       "  <tbody>\n",
       "    <tr>\n",
       "      <th>38</th>\n",
       "      <td>4.4</td>\n",
       "      <td>3.0</td>\n",
       "      <td>1.3</td>\n",
       "      <td>0.2</td>\n",
       "      <td>0</td>\n",
       "    </tr>\n",
       "    <tr>\n",
       "      <th>34</th>\n",
       "      <td>4.9</td>\n",
       "      <td>3.1</td>\n",
       "      <td>1.5</td>\n",
       "      <td>0.1</td>\n",
       "      <td>0</td>\n",
       "    </tr>\n",
       "    <tr>\n",
       "      <th>14</th>\n",
       "      <td>5.8</td>\n",
       "      <td>4.0</td>\n",
       "      <td>1.2</td>\n",
       "      <td>0.2</td>\n",
       "      <td>0</td>\n",
       "    </tr>\n",
       "    <tr>\n",
       "      <th>86</th>\n",
       "      <td>6.7</td>\n",
       "      <td>3.1</td>\n",
       "      <td>4.7</td>\n",
       "      <td>1.5</td>\n",
       "      <td>1</td>\n",
       "    </tr>\n",
       "    <tr>\n",
       "      <th>128</th>\n",
       "      <td>6.4</td>\n",
       "      <td>2.8</td>\n",
       "      <td>5.6</td>\n",
       "      <td>2.1</td>\n",
       "      <td>2</td>\n",
       "    </tr>\n",
       "  </tbody>\n",
       "</table>\n",
       "</div>"
      ],
      "text/plain": [
       "     sepal_length  sepal_width  petal_length  petal_width  species\n",
       "38            4.4          3.0           1.3          0.2        0\n",
       "34            4.9          3.1           1.5          0.1        0\n",
       "14            5.8          4.0           1.2          0.2        0\n",
       "86            6.7          3.1           4.7          1.5        1\n",
       "128           6.4          2.8           5.6          2.1        2"
      ]
     },
     "execution_count": 14,
     "metadata": {},
     "output_type": "execute_result"
    }
   ],
   "source": [
    "# Splitsen in trainset/testset en tonen rijen/kolommen van iedere set en eerste 5 records van trainset\n",
    "trainSet, testSet = train_test_split(iris, test_size = 0.33)\n",
    "print(trainSet.shape)\n",
    "print(testSet.shape)\n",
    "trainSet.head()"
   ]
  },
  {
   "cell_type": "code",
   "execution_count": null,
   "metadata": {},
   "outputs": [],
   "source": []
  },
  {
   "cell_type": "code",
   "execution_count": 15,
   "metadata": {},
   "outputs": [
    {
     "name": "stderr",
     "output_type": "stream",
     "text": [
      "<ipython-input-15-e777bed88e90>:2: FutureWarning: Method .as_matrix will be removed in a future version. Use .values instead.\n",
      "  trainData = pd.DataFrame.as_matrix(trainSet[['sepal_length', 'sepal_width', 'petal_length', 'petal_width']])\n",
      "<ipython-input-15-e777bed88e90>:3: FutureWarning: Method .as_matrix will be removed in a future version. Use .values instead.\n",
      "  trainTarget = pd.DataFrame.as_matrix(trainSet[['species']]).ravel()\n",
      "<ipython-input-15-e777bed88e90>:4: FutureWarning: Method .as_matrix will be removed in a future version. Use .values instead.\n",
      "  testData = pd.DataFrame.as_matrix(testSet[['sepal_length', 'sepal_width', 'petal_length', 'petal_width']])\n",
      "<ipython-input-15-e777bed88e90>:5: FutureWarning: Method .as_matrix will be removed in a future version. Use .values instead.\n",
      "  testTarget = pd.DataFrame.as_matrix(testSet[['species']]).ravel()\n"
     ]
    }
   ],
   "source": [
    "# Splitsen doelvariabelen en predictorvariabelen\n",
    "trainData = pd.DataFrame.as_matrix(trainSet[['sepal_length', 'sepal_width', 'petal_length', 'petal_width']])\n",
    "trainTarget = pd.DataFrame.as_matrix(trainSet[['species']]).ravel()\n",
    "testData = pd.DataFrame.as_matrix(testSet[['sepal_length', 'sepal_width', 'petal_length', 'petal_width']])\n",
    "testTarget = pd.DataFrame.as_matrix(testSet[['species']]).ravel()"
   ]
  },
  {
   "cell_type": "code",
   "execution_count": 28,
   "metadata": {},
   "outputs": [
    {
     "data": {
      "text/plain": [
       "GaussianNB(priors=None, var_smoothing=1e-09)"
      ]
     },
     "execution_count": 28,
     "metadata": {},
     "output_type": "execute_result"
    }
   ],
   "source": [
    "# Definiëren van de Gaussuan Naive Bayes classifier en het fitten van de data\n",
    "classifier = GaussianNB()\n",
    "classifier.fit(trainData, trainTarget)"
   ]
  },
  {
   "cell_type": "code",
   "execution_count": 17,
   "metadata": {},
   "outputs": [
    {
     "data": {
      "text/plain": [
       "0.94"
      ]
     },
     "execution_count": 17,
     "metadata": {},
     "output_type": "execute_result"
    }
   ],
   "source": [
    "# Bepalen accuracy model op basis van testdata\n",
    "predictedValues = classifier.predict(testData)\n",
    "accuracy_score(testTarget, predictedValues, normalize = True)"
   ]
  },
  {
   "cell_type": "code",
   "execution_count": 18,
   "metadata": {},
   "outputs": [
    {
     "name": "stdout",
     "output_type": "stream",
     "text": [
      "[2]\n"
     ]
    }
   ],
   "source": [
    "# Een voorbeeld van het classificeren van een bloem met onderstaande waarden\n",
    "print(classifier.predict([[5.9, 3.0, 5.1, 1.8]]))"
   ]
  },
  {
   "cell_type": "code",
   "execution_count": 31,
   "metadata": {},
   "outputs": [
    {
     "name": "stdout",
     "output_type": "stream",
     "text": [
      "[[13  0  0]\n",
      " [ 0 17  1]\n",
      " [ 0  2 17]]\n"
     ]
    }
   ],
   "source": [
    "# Confusion matrix\n",
    "print(confusion_matrix(testTarget, predictedValues))"
   ]
  },
  {
   "cell_type": "code",
   "execution_count": 33,
   "metadata": {},
   "outputs": [
    {
     "name": "stdout",
     "output_type": "stream",
     "text": [
      "              precision    recall  f1-score   support\n",
      "\n",
      "           0       1.00      1.00      1.00        13\n",
      "           1       0.89      0.94      0.92        18\n",
      "           2       0.94      0.89      0.92        19\n",
      "\n",
      "    accuracy                           0.94        50\n",
      "   macro avg       0.95      0.95      0.95        50\n",
      "weighted avg       0.94      0.94      0.94        50\n",
      "\n"
     ]
    }
   ],
   "source": [
    "# Classificatie rapport\n",
    "print(classification_report(testTarget, predictedValues))"
   ]
  },
  {
   "cell_type": "code",
   "execution_count": null,
   "metadata": {},
   "outputs": [],
   "source": []
  }
 ],
 "metadata": {
  "kernelspec": {
   "display_name": "Python 3",
   "language": "python",
   "name": "python3"
  },
  "language_info": {
   "codemirror_mode": {
    "name": "ipython",
    "version": 3
   },
   "file_extension": ".py",
   "mimetype": "text/x-python",
   "name": "python",
   "nbconvert_exporter": "python",
   "pygments_lexer": "ipython3",
   "version": "3.8.0"
  }
 },
 "nbformat": 4,
 "nbformat_minor": 2
}
